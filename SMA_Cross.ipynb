{
 "cells": [
  {
   "cell_type": "code",
   "execution_count": 73,
   "metadata": {},
   "outputs": [],
   "source": [
    "import backtrader as bt\n",
    "import yfinance as yf\n",
    "import math\n",
    "import talib as ta\n",
    "%matplotlib inline"
   ]
  },
  {
   "cell_type": "code",
   "execution_count": 74,
   "metadata": {},
   "outputs": [
    {
     "name": "stderr",
     "output_type": "stream",
     "text": [
      "[*********************100%***********************]  1 of 1 completed"
     ]
    },
    {
     "name": "stdout",
     "output_type": "stream",
     "text": [
      "<class 'pandas.core.frame.DataFrame'>\n",
      "DatetimeIndex: 250 entries, 2023-01-03 00:00:00+00:00 to 2023-12-29 00:00:00+00:00\n",
      "Data columns (total 6 columns):\n",
      " #   Column     Non-Null Count  Dtype  \n",
      "---  ------     --------------  -----  \n",
      " 0   Adj Close  250 non-null    float64\n",
      " 1   Close      250 non-null    float64\n",
      " 2   High       250 non-null    float64\n",
      " 3   Low        250 non-null    float64\n",
      " 4   Open       250 non-null    float64\n",
      " 5   Volume     250 non-null    int64  \n",
      "dtypes: float64(5), int64(1)\n",
      "memory usage: 13.7 KB\n",
      "None\n"
     ]
    },
    {
     "name": "stderr",
     "output_type": "stream",
     "text": [
      "\n"
     ]
    },
    {
     "data": {
      "text/html": [
       "<div>\n",
       "<style scoped>\n",
       "    .dataframe tbody tr th:only-of-type {\n",
       "        vertical-align: middle;\n",
       "    }\n",
       "\n",
       "    .dataframe tbody tr th {\n",
       "        vertical-align: top;\n",
       "    }\n",
       "\n",
       "    .dataframe thead th {\n",
       "        text-align: right;\n",
       "    }\n",
       "</style>\n",
       "<table border=\"1\" class=\"dataframe\">\n",
       "  <thead>\n",
       "    <tr style=\"text-align: right;\">\n",
       "      <th></th>\n",
       "      <th>Adj Close</th>\n",
       "      <th>Close</th>\n",
       "      <th>High</th>\n",
       "      <th>Low</th>\n",
       "      <th>Open</th>\n",
       "      <th>Volume</th>\n",
       "    </tr>\n",
       "    <tr>\n",
       "      <th>Date</th>\n",
       "      <th></th>\n",
       "      <th></th>\n",
       "      <th></th>\n",
       "      <th></th>\n",
       "      <th></th>\n",
       "      <th></th>\n",
       "    </tr>\n",
       "  </thead>\n",
       "  <tbody>\n",
       "    <tr>\n",
       "      <th>2023-01-03 00:00:00+00:00</th>\n",
       "      <td>123.904625</td>\n",
       "      <td>125.070000</td>\n",
       "      <td>130.899994</td>\n",
       "      <td>124.169998</td>\n",
       "      <td>130.279999</td>\n",
       "      <td>112117500</td>\n",
       "    </tr>\n",
       "    <tr>\n",
       "      <th>2023-01-04 00:00:00+00:00</th>\n",
       "      <td>125.182617</td>\n",
       "      <td>126.360001</td>\n",
       "      <td>128.660004</td>\n",
       "      <td>125.080002</td>\n",
       "      <td>126.889999</td>\n",
       "      <td>89113600</td>\n",
       "    </tr>\n",
       "    <tr>\n",
       "      <th>2023-01-05 00:00:00+00:00</th>\n",
       "      <td>123.855095</td>\n",
       "      <td>125.019997</td>\n",
       "      <td>127.769997</td>\n",
       "      <td>124.760002</td>\n",
       "      <td>127.129997</td>\n",
       "      <td>80962700</td>\n",
       "    </tr>\n",
       "    <tr>\n",
       "      <th>2023-01-06 00:00:00+00:00</th>\n",
       "      <td>128.412231</td>\n",
       "      <td>129.619995</td>\n",
       "      <td>130.289993</td>\n",
       "      <td>124.889999</td>\n",
       "      <td>126.010002</td>\n",
       "      <td>87754700</td>\n",
       "    </tr>\n",
       "    <tr>\n",
       "      <th>2023-01-09 00:00:00+00:00</th>\n",
       "      <td>128.937286</td>\n",
       "      <td>130.149994</td>\n",
       "      <td>133.410004</td>\n",
       "      <td>129.889999</td>\n",
       "      <td>130.470001</td>\n",
       "      <td>70790800</td>\n",
       "    </tr>\n",
       "  </tbody>\n",
       "</table>\n",
       "</div>"
      ],
      "text/plain": [
       "                            Adj Close       Close  ...        Open     Volume\n",
       "Date                                               ...                       \n",
       "2023-01-03 00:00:00+00:00  123.904625  125.070000  ...  130.279999  112117500\n",
       "2023-01-04 00:00:00+00:00  125.182617  126.360001  ...  126.889999   89113600\n",
       "2023-01-05 00:00:00+00:00  123.855095  125.019997  ...  127.129997   80962700\n",
       "2023-01-06 00:00:00+00:00  128.412231  129.619995  ...  126.010002   87754700\n",
       "2023-01-09 00:00:00+00:00  128.937286  130.149994  ...  130.470001   70790800\n",
       "\n",
       "[5 rows x 6 columns]"
      ]
     },
     "execution_count": 74,
     "metadata": {},
     "output_type": "execute_result"
    }
   ],
   "source": [
    "df = yf.download('AAPL', start='2023-01-01', end='2023-12-31')\n",
    "df.columns = [col[0] for col in df.columns] # Flatten multi-level column index\n",
    "print(df.info())\n",
    "df.head()"
   ]
  },
  {
   "cell_type": "code",
   "execution_count": 75,
   "metadata": {},
   "outputs": [
    {
     "data": {
      "text/plain": [
       "<backtrader.feeds.pandafeed.PandasData at 0x128cbad00>"
      ]
     },
     "execution_count": 75,
     "metadata": {},
     "output_type": "execute_result"
    }
   ],
   "source": [
    "data = bt.feeds.PandasData(dataname=df)\n",
    "data"
   ]
  },
  {
   "cell_type": "code",
   "execution_count": 76,
   "metadata": {},
   "outputs": [],
   "source": [
    "class SMA_Cross(bt.Strategy):\n",
    "    \n",
    "    params = dict(\n",
    "        sma_period_short = 5,\n",
    "        sma_period_long = 10\n",
    "    )\n",
    "\n",
    "    def __init__(self):\n",
    "\n",
    "        self.sma_short = bt.indicators.SMA(self.data.close, period=self.params.sma_period_short)\n",
    "        self.sma_long = bt.indicators.SMA(self.data.close, period=self.params.sma_period_long)\n",
    "\n",
    "        self.crossover = bt.indicators.CrossOver(self.sma_short, self.sma_long)\n",
    "\n",
    "        self.dataclose = self.datas[0].close\n",
    "    \n",
    "    def log(self, txt, dt=None):\n",
    "        dt = dt or self.datas[0].datetime.datetime().date()\n",
    "        print('%s, %s' % (dt.isoformat(), txt))\n",
    "    \n",
    "    def notify_order(self, order):\n",
    "        if order.status in [order.Submitted]:\n",
    "            self.log('Order Submitted')\n",
    "            pass\n",
    "\n",
    "        if order.status in [order.Accepted]:\n",
    "            pass\n",
    "        \n",
    "        if order.status in [order.Completed]:\n",
    "            if order.isbuy():\n",
    "                self.log('BUY EXECUTED, Price: %.2f, Cost: %.2f, Comm: %.2f' % (order.executed.price, order.executed.value, order.executed.comm))\n",
    "            else:\n",
    "                self.log('SELL EXECUTED, Price: %.2f, Cost: %.2f, Comm: %.2f' % (order.executed.price, order.executed.value, order.executed.comm))\n",
    "        \n",
    "        if order.status in [order.Canceled, order.Margin, order.Rejected]:\n",
    "            self.log('Order Canceled/Margin/Rejected')\n",
    "            \n",
    "        self.order = None\n",
    "\n",
    "    def next(self):\n",
    "\n",
    "        if self.crossover > 0: # buy in\n",
    "            self.order = self.buy()\n",
    "            pass\n",
    "        elif self.crossover < 0 and self.position: # sell out\n",
    "            self.order = self.sell()\n",
    "            pass\n",
    "\n",
    "    def stop(self):\n",
    "        pass"
   ]
  },
  {
   "cell_type": "code",
   "execution_count": null,
   "metadata": {},
   "outputs": [
    {
     "name": "stdout",
     "output_type": "stream",
     "text": [
      "2023-03-07, Order Submitted\n",
      "2023-03-07, BUY EXECUTED, Price: 153.70, Cost: 153.70, Comm: 0.15\n",
      "2023-03-16, Order Submitted\n",
      "2023-03-16, SELL EXECUTED, Price: 152.16, Cost: 153.70, Comm: 0.15\n",
      "2023-03-17, Order Submitted\n",
      "2023-03-17, BUY EXECUTED, Price: 156.08, Cost: 156.08, Comm: 0.16\n",
      "2023-04-13, Order Submitted\n",
      "2023-04-13, SELL EXECUTED, Price: 161.63, Cost: 156.08, Comm: 0.16\n",
      "2023-04-19, Order Submitted\n",
      "2023-04-19, BUY EXECUTED, Price: 165.80, Cost: 165.80, Comm: 0.17\n",
      "2023-04-27, Order Submitted\n",
      "2023-04-27, SELL EXECUTED, Price: 165.19, Cost: 165.80, Comm: 0.17\n",
      "2023-05-02, Order Submitted\n",
      "2023-05-02, BUY EXECUTED, Price: 170.09, Cost: 170.09, Comm: 0.17\n",
      "2023-05-19, Order Submitted\n",
      "2023-05-19, SELL EXECUTED, Price: 176.39, Cost: 170.09, Comm: 0.18\n",
      "2023-05-22, Order Submitted\n",
      "2023-05-22, BUY EXECUTED, Price: 173.98, Cost: 173.98, Comm: 0.17\n",
      "2023-05-30, Order Submitted\n",
      "2023-05-30, SELL EXECUTED, Price: 176.96, Cost: 173.98, Comm: 0.18\n",
      "2023-06-01, Order Submitted\n",
      "2023-06-01, BUY EXECUTED, Price: 177.70, Cost: 177.70, Comm: 0.18\n",
      "2023-07-12, Order Submitted\n",
      "2023-07-12, SELL EXECUTED, Price: 189.68, Cost: 177.70, Comm: 0.19\n",
      "2023-07-19, Order Submitted\n",
      "2023-07-19, BUY EXECUTED, Price: 193.10, Cost: 193.10, Comm: 0.19\n",
      "2023-07-28, Order Submitted\n",
      "2023-07-28, SELL EXECUTED, Price: 194.67, Cost: 193.10, Comm: 0.19\n",
      "2023-07-31, Order Submitted\n",
      "2023-07-31, BUY EXECUTED, Price: 196.06, Cost: 196.06, Comm: 0.20\n",
      "2023-08-07, Order Submitted\n",
      "2023-08-07, SELL EXECUTED, Price: 182.13, Cost: 196.06, Comm: 0.18\n",
      "2023-08-28, Order Submitted\n",
      "2023-08-28, BUY EXECUTED, Price: 180.09, Cost: 180.09, Comm: 0.18\n",
      "2023-09-11, Order Submitted\n",
      "2023-09-11, SELL EXECUTED, Price: 180.07, Cost: 180.09, Comm: 0.18\n",
      "2023-09-25, Order Submitted\n",
      "2023-09-25, BUY EXECUTED, Price: 174.20, Cost: 174.20, Comm: 0.17\n",
      "2023-09-27, Order Submitted\n",
      "2023-09-27, SELL EXECUTED, Price: 172.62, Cost: 174.20, Comm: 0.17\n",
      "2023-10-06, Order Submitted\n",
      "2023-10-06, BUY EXECUTED, Price: 173.80, Cost: 173.80, Comm: 0.17\n",
      "2023-10-20, Order Submitted\n",
      "2023-10-20, SELL EXECUTED, Price: 175.31, Cost: 173.80, Comm: 0.18\n",
      "2023-11-03, Order Submitted\n",
      "2023-11-03, BUY EXECUTED, Price: 174.24, Cost: 174.24, Comm: 0.17\n",
      "2023-12-01, Order Submitted\n",
      "2023-12-01, SELL EXECUTED, Price: 190.33, Cost: 174.24, Comm: 0.19\n",
      "2023-12-06, Order Submitted\n",
      "2023-12-06, BUY EXECUTED, Price: 194.45, Cost: 194.45, Comm: 0.19\n",
      "2023-12-26, Order Submitted\n",
      "2023-12-26, SELL EXECUTED, Price: 193.61, Cost: 194.45, Comm: 0.19\n",
      "Final Portfolio Value: 10022.865981964113\n"
     ]
    },
    {
     "ename": "",
     "evalue": "",
     "output_type": "error",
     "traceback": [
      "\u001b[1;31mThe Kernel crashed while executing code in the current cell or a previous cell. \n",
      "\u001b[1;31mPlease review the code in the cell(s) to identify a possible cause of the failure. \n",
      "\u001b[1;31mClick <a href='https://aka.ms/vscodeJupyterKernelCrash'>here</a> for more info. \n",
      "\u001b[1;31mView Jupyter <a href='command:jupyter.viewOutput'>log</a> for further details."
     ]
    }
   ],
   "source": [
    "cerebro = bt.Cerebro()\n",
    "\n",
    "cerebro.adddata(data)\n",
    "cerebro.addstrategy(SMA_Cross)\n",
    "cerebro.broker.setcash(10000)\n",
    "cerebro.broker.setcommission(commission=0.001)\n",
    "\n",
    "# cerebro.optstrategy(\n",
    "#     SMA_Cross,\n",
    "#     sma_period_long = range(10, 30)\n",
    "# )\n",
    "\n",
    "cerebro.run(maxcpus = 1)\n",
    "print(f'Final Portfolio Value: {cerebro.broker.getvalue()}')\n",
    "\n",
    "cerebro.plot(iplot=False)\n",
    "fig = cerebro.plot(iplot=False)[0][0]\n",
    "fig.savefig(\"backtest_plot.png\")"
   ]
  }
 ],
 "metadata": {
  "kernelspec": {
   "display_name": "stock",
   "language": "python",
   "name": "python3"
  },
  "language_info": {
   "codemirror_mode": {
    "name": "ipython",
    "version": 3
   },
   "file_extension": ".py",
   "mimetype": "text/x-python",
   "name": "python",
   "nbconvert_exporter": "python",
   "pygments_lexer": "ipython3",
   "version": "3.9.20"
  }
 },
 "nbformat": 4,
 "nbformat_minor": 2
}
